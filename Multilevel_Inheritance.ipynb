{
 "cells": [
  {
   "cell_type": "code",
   "execution_count": null,
   "id": "7c3ffa5c",
   "metadata": {},
   "outputs": [],
   "source": [
    "'''design a class hierarchy for electronic devices. The base class, Device, provides essential methods \n",
    "for powering on and off. \n",
    "The hierarchy includes a Smartphone class, inheriting from Device, with additional features \n",
    "like making calls and sending messages. Furthermore, the hierarchy extends to a Smartwatch class, \n",
    "inheriting from Smartphone, which introduces functionality such as tracking steps and \n",
    "monitoring heart rate. '''"
   ]
  },
  {
   "cell_type": "code",
   "execution_count": 7,
   "id": "4ce244da",
   "metadata": {},
   "outputs": [],
   "source": [
    "class Device:\n",
    "    def __init__(self,user_name,password):\n",
    "        self.name = user_name\n",
    "        self.password = password\n",
    "        self.device = 'Power on'\n",
    "        \n",
    "    def chk_status(self):\n",
    "        print(f\"your device is {self.device}\")\n",
    "        \n",
    "    def power_on(self):\n",
    "        self.device = 'Power on'\n",
    "        print(self.device)\n",
    "    \n",
    "    def power_off(self):\n",
    "        self.device = 'Power off'\n",
    "        print(self.device)\n",
    "\n",
    "class smart_phone(Device):\n",
    "    def __init__(self,user_name,password):\n",
    "        super().__init__(user_name,password)\n",
    "        \n",
    "    def make_call(self):\n",
    "        print('Ringing...')\n",
    "        \n",
    "    def send_message(self):\n",
    "        print('Type your message here..')\n",
    "        \n",
    "class smart_watch(smart_phone):\n",
    "    def __init__(self,user_name,password):\n",
    "        super().__init__(user_name,password)\n",
    "        self.heaRate = 75\n",
    "        self.steps = 1000\n",
    "    def heart_rate(self):\n",
    "        print(f\"heart rate monitored:{self.heaRate} bpm\")\n",
    "        \n",
    "    def track_steps(self):\n",
    "        print(f\"today's tracked steps: {self.steps}\")\n",
    "        \n",
    "\n",
    "mydevice = smart_watch('laibatool','12345')"
   ]
  },
  {
   "cell_type": "code",
   "execution_count": 14,
   "id": "33252c3f",
   "metadata": {},
   "outputs": [
    {
     "name": "stdout",
     "output_type": "stream",
     "text": [
      "your device is Power off\n",
      "Power on\n",
      "today's tracked steps: 1000\n",
      "Ringing...\n",
      "Type your message here..\n",
      "Power off\n"
     ]
    }
   ],
   "source": [
    "mydevice.chk_status()\n",
    "mydevice.power_on()\n",
    "mydevice.track_steps()\n",
    "mydevice.make_call()\n",
    "mydevice.send_message()\n",
    "mydevice.power_off()\n",
    "\n"
   ]
  },
  {
   "cell_type": "code",
   "execution_count": null,
   "id": "bab142d0",
   "metadata": {},
   "outputs": [],
   "source": []
  }
 ],
 "metadata": {
  "kernelspec": {
   "display_name": "Python 3 (ipykernel)",
   "language": "python",
   "name": "python3"
  },
  "language_info": {
   "codemirror_mode": {
    "name": "ipython",
    "version": 3
   },
   "file_extension": ".py",
   "mimetype": "text/x-python",
   "name": "python",
   "nbconvert_exporter": "python",
   "pygments_lexer": "ipython3",
   "version": "3.10.9"
  }
 },
 "nbformat": 4,
 "nbformat_minor": 5
}
