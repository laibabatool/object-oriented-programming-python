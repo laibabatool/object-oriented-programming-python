{
 "cells": [
  {
   "cell_type": "markdown",
   "id": "0fc7b5b1",
   "metadata": {},
   "source": [
    "# Library Management System using Single Inheritance"
   ]
  },
  {
   "cell_type": "code",
   "execution_count": 4,
   "id": "40a2d399",
   "metadata": {},
   "outputs": [],
   "source": [
    "class Library: # parent/base class\n",
    "    def __init__(self,item_id,title):\n",
    "        self.id = item_id\n",
    "        self.title = title\n",
    "        self.status = 'Available'\n",
    "        \n",
    "    def checked_out(self):\n",
    "        self.status = 'Checked Out'\n",
    "        \n",
    "    def checked_in(self):\n",
    "        self.status = 'Available'\n",
    "        \n",
    "class Book(Library):  # child/derive class 01\n",
    "    def __init__(self,item_id,title,author):\n",
    "        super().__init__(item_id,title)\n",
    "        self.author = author\n",
    "        \n",
    "    def info(self):\n",
    "        print('Item Id:',self.id)\n",
    "        print('Book Title:',self.title)\n",
    "        print('Book Author:',self.author)\n",
    "        print('Status:',self.status)\n",
    "        \n",
    "class DVD(Library):  # child/derive class 02\n",
    "    def __init__(self,item_id,title,director):\n",
    "        super().__init__(item_id,title)\n",
    "        self.director = director\n",
    "        \n",
    "    def info(self):\n",
    "        print('Item Id:',self.id)\n",
    "        print('Movie Title:',self.title)\n",
    "        print('Movie Director:',self.director)\n",
    "        print('Status:',self.status)\n",
    "        \n",
    "        \n",
    "\n",
    "book1 = Book('001','Atomic Habits','James Clear')\n",
    "book2 = Book('002','Mind Platter','Najwa Zebien')\n",
    "book3 = Book('003','subtle art of not giving a f*ck','Mark Manson')\n",
    "book4 = Book('004','Everything is F*cked','Mark Manson')\n",
    "book5 = Book('005','When Life Begin','Abu Yahya')\n",
    "\n",
    "movie1 = DVD('1011','Tangled',' Nathan Greno, Byron Howard')\n",
    "movie2 = DVD('1012','Beauty and the Beast','Bill Condon')\n",
    "movie3 = DVD('1013','Iron Man','Jon Favreau')\n",
    "movie4 = DVD('1014','Avengers: The EndGame','Joe Russo, Anthony Russo')"
   ]
  },
  {
   "cell_type": "code",
   "execution_count": 5,
   "id": "f37f92a6",
   "metadata": {},
   "outputs": [
    {
     "name": "stdout",
     "output_type": "stream",
     "text": [
      "Item Id: 005\n",
      "Book Title: When Life Begin\n",
      "Book Author: Abu Yahya\n",
      "Status: Available\n"
     ]
    }
   ],
   "source": [
    "book5.info()"
   ]
  },
  {
   "cell_type": "code",
   "execution_count": 6,
   "id": "8e58d31e",
   "metadata": {},
   "outputs": [],
   "source": [
    "book5.checked_out()"
   ]
  },
  {
   "cell_type": "code",
   "execution_count": 7,
   "id": "cf7f552e",
   "metadata": {},
   "outputs": [
    {
     "name": "stdout",
     "output_type": "stream",
     "text": [
      "Item Id: 005\n",
      "Book Title: When Life Begin\n",
      "Book Author: Abu Yahya\n",
      "Status: Checked Out\n"
     ]
    }
   ],
   "source": [
    "book5.info()"
   ]
  },
  {
   "cell_type": "code",
   "execution_count": 8,
   "id": "bfbe37ac",
   "metadata": {},
   "outputs": [],
   "source": [
    "movie3.checked_out()"
   ]
  },
  {
   "cell_type": "code",
   "execution_count": 9,
   "id": "97b09429",
   "metadata": {},
   "outputs": [
    {
     "name": "stdout",
     "output_type": "stream",
     "text": [
      "Item Id: 1013\n",
      "Movie Title: Iron Man\n",
      "Movie Director: Jon Favreau\n",
      "Status: Checked Out\n"
     ]
    }
   ],
   "source": [
    "movie3.info()"
   ]
  },
  {
   "cell_type": "code",
   "execution_count": 10,
   "id": "ce16154f",
   "metadata": {},
   "outputs": [],
   "source": [
    "movie3.checked_in()"
   ]
  },
  {
   "cell_type": "code",
   "execution_count": 11,
   "id": "cf8390a3",
   "metadata": {},
   "outputs": [
    {
     "name": "stdout",
     "output_type": "stream",
     "text": [
      "Item Id: 1013\n",
      "Movie Title: Iron Man\n",
      "Movie Director: Jon Favreau\n",
      "Status: Available\n"
     ]
    }
   ],
   "source": [
    "movie3.info()"
   ]
  }
 ],
 "metadata": {
  "kernelspec": {
   "display_name": "Python 3 (ipykernel)",
   "language": "python",
   "name": "python3"
  },
  "language_info": {
   "codemirror_mode": {
    "name": "ipython",
    "version": 3
   },
   "file_extension": ".py",
   "mimetype": "text/x-python",
   "name": "python",
   "nbconvert_exporter": "python",
   "pygments_lexer": "ipython3",
   "version": "3.10.9"
  }
 },
 "nbformat": 4,
 "nbformat_minor": 5
}
