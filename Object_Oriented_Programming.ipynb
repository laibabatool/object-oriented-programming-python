{
 "cells": [
  {
   "cell_type": "code",
   "execution_count": 17,
   "id": "dced926b",
   "metadata": {},
   "outputs": [],
   "source": [
    "#creating a class with normal methods\n",
    "class students:\n",
    "    def info(self,name,roll_no,course,age,result):  #method 01\n",
    "        self.name = name          #attributes\n",
    "        self.rollno = roll_no\n",
    "        self.course = course\n",
    "        self.age = age\n",
    "        self.result = result\n",
    "        \n",
    "    def student_info(self):  # method 02\n",
    "        print('Name of Student:',self.name)\n",
    "        print('Roll No:',self.rollno)\n",
    "        print('Course:',self.course)\n",
    "        \n",
    "    def grades(self):      # method 03\n",
    "        if self.result > 75:\n",
    "            print(f\"Student's name:{self.name}, Grades s/he got:A+\")\n",
    "        elif self.result < 75  and self.result > 60:\n",
    "            print(f\"Student's name:{self.name}, Grades s/he got:A\")\n",
    "        elif self.result < 60 and self.result > 50:\n",
    "            print(f\"Student's name:{self.name}, Grades s/he got:B\")\n",
    "        elif self.result <= 50:\n",
    "            print(f\"Student's name:{self.name}, Grades s/he got:C\")\n",
    "        else:\n",
    "            print(\"Result is not announced!!\")\n",
    "            \n",
    "#creating objects\n",
    "s1 = students()\n",
    "s1.info('Elena','44','python programming',22,82)\n",
    "s2 = students()\n",
    "s2.info('Zain','45','python programming',23,72)\n",
    "s3 = students()\n",
    "s3.info('Ayaan','55','robotics',20,65)\n",
    "s4 = students()\n",
    "s4.info('Ishaal','42','python programming',22,55)\n",
    "s5 = students()\n",
    "s5.info('Hassan','34','C++ programming',19,40)"
   ]
  },
  {
   "cell_type": "code",
   "execution_count": 18,
   "id": "073af1b3",
   "metadata": {},
   "outputs": [
    {
     "name": "stdout",
     "output_type": "stream",
     "text": [
      "Student's name:Zain, Grades s/he got:A\n",
      "Name of Student: Zain\n",
      "Roll No: 45\n",
      "Course: python programming\n"
     ]
    }
   ],
   "source": [
    "#calling methods\n",
    "s2.grades()\n",
    "s2.student_info()"
   ]
  },
  {
   "cell_type": "code",
   "execution_count": 19,
   "id": "5250e9bd",
   "metadata": {},
   "outputs": [
    {
     "name": "stdout",
     "output_type": "stream",
     "text": [
      "Name of Student: Hassan\n",
      "Roll No: 34\n",
      "Course: C++ programming\n"
     ]
    }
   ],
   "source": [
    "s5.student_info()"
   ]
  },
  {
   "cell_type": "code",
   "execution_count": 22,
   "id": "b7afbcd4",
   "metadata": {},
   "outputs": [
    {
     "name": "stdout",
     "output_type": "stream",
     "text": [
      "Student's name:Ayaan, Grades s/he got:A\n",
      "Student's name:Hassan, Grades s/he got:C\n",
      "Student's name:Ishaal, Grades s/he got:B\n"
     ]
    }
   ],
   "source": [
    "s3.grades()\n",
    "s5.grades()\n",
    "s4.grades()"
   ]
  },
  {
   "cell_type": "code",
   "execution_count": 23,
   "id": "38ba5862",
   "metadata": {},
   "outputs": [],
   "source": [
    "#creating a class with constructor method\n",
    "class students:\n",
    "    def __init__(self,name,roll_no,course,age,result):  #constructor\n",
    "        self.name = name          #attributes\n",
    "        self.rollno = roll_no\n",
    "        self.course = course\n",
    "        self.age = age\n",
    "        self.result = result\n",
    "        \n",
    "    def student_info(self):  # method 01\n",
    "        print('Name of Student:',self.name)\n",
    "        print('Roll No:',self.rollno)\n",
    "        print('Course:',self.course)\n",
    "        \n",
    "    def grades(self):      # method 02\n",
    "        if self.result > 75:\n",
    "            print(f\"Student's name:{self.name}, Grades s/he got:A+\")\n",
    "        elif self.result < 75  and self.result > 60:\n",
    "            print(f\"Student's name:{self.name}, Grades s/he got:A\")\n",
    "        elif self.result < 60 and self.result > 50:\n",
    "            print(f\"Student's name:{self.name}, Grades s/he got:B\")\n",
    "        elif self.result <= 50:\n",
    "            print(f\"Student's name:{self.name}, Grades s/he got:C\")\n",
    "        else:\n",
    "            print(\"Result is not announced!!\")\n",
    "            \n",
    "#creating objects\n",
    "\n",
    "s1=students('Elena','44','python programming',22,82)\n",
    "s2=students('Zain','45','python programming',23,72)\n",
    "s3=students('Ayaan','55','robotics',20,65)\n",
    "s4=students('Ishaal','42','python programming',22,55)\n",
    "s5=students('Hassan','34','C++ programming',19,40)"
   ]
  },
  {
   "cell_type": "code",
   "execution_count": 25,
   "id": "1828cb36",
   "metadata": {},
   "outputs": [
    {
     "name": "stdout",
     "output_type": "stream",
     "text": [
      "Student's name:Zain, Grades s/he got:A\n",
      "Name of Student: Zain\n",
      "Roll No: 45\n",
      "Course: python programming\n",
      "Name of Student: Hassan\n",
      "Roll No: 34\n",
      "Course: C++ programming\n"
     ]
    }
   ],
   "source": [
    "#calling methods\n",
    "s2.grades()\n",
    "s2.student_info()\n",
    "s5.student_info()"
   ]
  }
 ],
 "metadata": {
  "kernelspec": {
   "display_name": "Python 3 (ipykernel)",
   "language": "python",
   "name": "python3"
  },
  "language_info": {
   "codemirror_mode": {
    "name": "ipython",
    "version": 3
   },
   "file_extension": ".py",
   "mimetype": "text/x-python",
   "name": "python",
   "nbconvert_exporter": "python",
   "pygments_lexer": "ipython3",
   "version": "3.10.9"
  }
 },
 "nbformat": 4,
 "nbformat_minor": 5
}
