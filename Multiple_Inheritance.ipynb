{
 "cells": [
  {
   "cell_type": "code",
   "execution_count": null,
   "id": "1e5e2654",
   "metadata": {},
   "outputs": [],
   "source": [
    "'''Create a class Employee with methods like work and get_salary. \n",
    "Then, create a class Task with methods like assign_task and complete_task. \n",
    "Finally, create a class EmployeeTask that inherits from both Employee and \n",
    "Task to represent an employee working on a specific task.'''"
   ]
  },
  {
   "cell_type": "code",
   "execution_count": 4,
   "id": "e081c2ba",
   "metadata": {},
   "outputs": [],
   "source": [
    "class Employee:\n",
    "    def __init__(self,name,employee_id):\n",
    "        self.name = name\n",
    "        self.id = employee_id\n",
    "        \n",
    "    def work(self):\n",
    "        print(f\"{self.name} is working on a task\")\n",
    "        \n",
    "    def get_salary(self):\n",
    "        print(f\"{self.name} receives a salary\")\n",
    "        \n",
    "class Task:\n",
    "    def __init__(self,task):\n",
    "        self.task = task\n",
    "        \n",
    "    def assign_task(self):\n",
    "        print(f\"{self.task} assigns to {self.name}\")\n",
    "    \n",
    "    def complete_task(self):\n",
    "        print(f\"{self.name} completed the task {self.task}\")\n",
    "        \n",
    "class EmployeeTask(Employee,Task):\n",
    "    def __init__(self,name,employee_id,task):\n",
    "        Employee.__init__(self,name,employee_id)\n",
    "        Task.__init__(self,task)\n",
    "        \n",
    "\n",
    "emp1 = EmployeeTask('Alex',2301,'preparing data for training')"
   ]
  },
  {
   "cell_type": "code",
   "execution_count": 7,
   "id": "ca37cffb",
   "metadata": {},
   "outputs": [
    {
     "name": "stdout",
     "output_type": "stream",
     "text": [
      "preparing data for training assigns to Alex\n",
      "Alex is working on a task\n"
     ]
    }
   ],
   "source": [
    "emp1.assign_task()\n",
    "emp1.work()"
   ]
  },
  {
   "cell_type": "code",
   "execution_count": 9,
   "id": "2616ddc9",
   "metadata": {},
   "outputs": [
    {
     "name": "stdout",
     "output_type": "stream",
     "text": [
      "Alex completed the task preparing data for training\n",
      "Alex receives a salary\n"
     ]
    }
   ],
   "source": [
    "emp1.complete_task()\n",
    "emp1.get_salary()"
   ]
  }
 ],
 "metadata": {
  "kernelspec": {
   "display_name": "Python 3 (ipykernel)",
   "language": "python",
   "name": "python3"
  },
  "language_info": {
   "codemirror_mode": {
    "name": "ipython",
    "version": 3
   },
   "file_extension": ".py",
   "mimetype": "text/x-python",
   "name": "python",
   "nbconvert_exporter": "python",
   "pygments_lexer": "ipython3",
   "version": "3.10.9"
  }
 },
 "nbformat": 4,
 "nbformat_minor": 5
}
