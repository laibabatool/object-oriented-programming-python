{
 "cells": [
  {
   "cell_type": "code",
   "execution_count": 13,
   "id": "398d74d7",
   "metadata": {},
   "outputs": [],
   "source": [
    "#single inheritance\n",
    "\n",
    "class students:  #parent class\n",
    "    def __init__(self,name,age,results):\n",
    "        self.name = name\n",
    "        self.age = age\n",
    "        self.results = results\n",
    "        \n",
    "    def student_info(self):\n",
    "        print(\"student name:\",self.name)\n",
    "        print(\"student's age:\",self.age)\n",
    "    \n",
    "    def result(self):\n",
    "        print('student\\'s name:',self.name)\n",
    "        print(\"student's results:\",self.results)\n",
    "        \n",
    "\n",
    "class grades(students): #child class\n",
    "    def __init__(self,name,age,results):\n",
    "        super().__init__(name,age,results)\n",
    "        \n",
    "    def grading(self):\n",
    "        if self.results > 80:\n",
    "            print('your grade is A+')\n",
    "        elif self.results < 80 and self.results > 70:\n",
    "            print('your grade is A')\n",
    "        elif self.results < 70 and self.results > 60:\n",
    "            print('your grade is B')\n",
    "        elif self.results < 60 and self.results > 50:\n",
    "            print('your grade is C')\n",
    "        elif self.results < 50:\n",
    "            print('your grade is D')\n",
    "        else:\n",
    "            print('result not announced yet...')"
   ]
  },
  {
   "cell_type": "code",
   "execution_count": 4,
   "id": "8a8e01e0",
   "metadata": {},
   "outputs": [],
   "source": [
    "std1 = grades('ayaan',12,95)\n",
    "std2 = grades('haris',15,82)\n",
    "std3 = grades('ayman',12,62)"
   ]
  },
  {
   "cell_type": "code",
   "execution_count": 7,
   "id": "74edbfe0",
   "metadata": {},
   "outputs": [
    {
     "name": "stdout",
     "output_type": "stream",
     "text": [
      "student name: ayaan\n",
      "student's age: 12\n",
      "student's name: ayaan\n",
      "student's results: 95\n",
      "your grade is A+\n"
     ]
    }
   ],
   "source": [
    "std1.student_info()\n",
    "std1.result()\n",
    "std1.grading()"
   ]
  },
  {
   "cell_type": "code",
   "execution_count": 14,
   "id": "6f28c944",
   "metadata": {},
   "outputs": [
    {
     "name": "stdout",
     "output_type": "stream",
     "text": [
      "student name: ayman\n",
      "student's age: 12\n",
      "student's name: ayman\n",
      "student's results: 62\n"
     ]
    },
    {
     "ename": "TypeError",
     "evalue": "'>' not supported between instances of 'method' and 'int'",
     "output_type": "error",
     "traceback": [
      "\u001b[1;31m---------------------------------------------------------------------------\u001b[0m",
      "\u001b[1;31mTypeError\u001b[0m                                 Traceback (most recent call last)",
      "Cell \u001b[1;32mIn[14], line 3\u001b[0m\n\u001b[0;32m      1\u001b[0m std3\u001b[38;5;241m.\u001b[39mstudent_info()\n\u001b[0;32m      2\u001b[0m std3\u001b[38;5;241m.\u001b[39mresult()\n\u001b[1;32m----> 3\u001b[0m \u001b[43mstd3\u001b[49m\u001b[38;5;241;43m.\u001b[39;49m\u001b[43mgrading\u001b[49m\u001b[43m(\u001b[49m\u001b[43m)\u001b[49m\n",
      "Cell \u001b[1;32mIn[11], line 25\u001b[0m, in \u001b[0;36mgrades.grading\u001b[1;34m(self)\u001b[0m\n\u001b[0;32m     23\u001b[0m \u001b[38;5;28;01mif\u001b[39;00m \u001b[38;5;28mself\u001b[39m\u001b[38;5;241m.\u001b[39mresults \u001b[38;5;241m>\u001b[39m \u001b[38;5;241m80\u001b[39m:\n\u001b[0;32m     24\u001b[0m     \u001b[38;5;28mprint\u001b[39m(\u001b[38;5;124m'\u001b[39m\u001b[38;5;124myour grade is A+\u001b[39m\u001b[38;5;124m'\u001b[39m)\n\u001b[1;32m---> 25\u001b[0m \u001b[38;5;28;01melif\u001b[39;00m \u001b[38;5;28mself\u001b[39m\u001b[38;5;241m.\u001b[39mresults \u001b[38;5;241m<\u001b[39m \u001b[38;5;241m80\u001b[39m \u001b[38;5;129;01mand\u001b[39;00m \u001b[38;5;28;43mself\u001b[39;49m\u001b[38;5;241;43m.\u001b[39;49m\u001b[43mresult\u001b[49m\u001b[43m \u001b[49m\u001b[38;5;241;43m>\u001b[39;49m\u001b[43m \u001b[49m\u001b[38;5;241;43m70\u001b[39;49m:\n\u001b[0;32m     26\u001b[0m     \u001b[38;5;28mprint\u001b[39m(\u001b[38;5;124m'\u001b[39m\u001b[38;5;124myour grade is A\u001b[39m\u001b[38;5;124m'\u001b[39m)\n\u001b[0;32m     27\u001b[0m \u001b[38;5;28;01melif\u001b[39;00m \u001b[38;5;28mself\u001b[39m\u001b[38;5;241m.\u001b[39mresult \u001b[38;5;241m<\u001b[39m \u001b[38;5;241m70\u001b[39m \u001b[38;5;129;01mand\u001b[39;00m \u001b[38;5;28mself\u001b[39m\u001b[38;5;241m.\u001b[39mresult \u001b[38;5;241m>\u001b[39m \u001b[38;5;241m60\u001b[39m:\n",
      "\u001b[1;31mTypeError\u001b[0m: '>' not supported between instances of 'method' and 'int'"
     ]
    }
   ],
   "source": [
    "std3.student_info()\n",
    "std3.result()\n",
    "std3.grading()"
   ]
  },
  {
   "cell_type": "code",
   "execution_count": null,
   "id": "33d102e6",
   "metadata": {},
   "outputs": [],
   "source": []
  }
 ],
 "metadata": {
  "kernelspec": {
   "display_name": "Python 3 (ipykernel)",
   "language": "python",
   "name": "python3"
  },
  "language_info": {
   "codemirror_mode": {
    "name": "ipython",
    "version": 3
   },
   "file_extension": ".py",
   "mimetype": "text/x-python",
   "name": "python",
   "nbconvert_exporter": "python",
   "pygments_lexer": "ipython3",
   "version": "3.10.9"
  }
 },
 "nbformat": 4,
 "nbformat_minor": 5
}
